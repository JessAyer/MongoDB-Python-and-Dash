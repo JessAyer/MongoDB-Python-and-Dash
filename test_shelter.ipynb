{
 "cells": [
  {
   "cell_type": "code",
   "execution_count": 1,
   "metadata": {
    "scrolled": true
   },
   "outputs": [],
   "source": [
    "from animal_shelter import AnimalShelter\n",
    "\n",
    "shelter = AnimalShelter(\"aacuser\", \"CS340\")"
   ]
  },
  {
   "cell_type": "code",
   "execution_count": 2,
   "metadata": {},
   "outputs": [
    {
     "data": {
      "text/plain": [
       "'New account added'"
      ]
     },
     "execution_count": 2,
     "metadata": {},
     "output_type": "execute_result"
    }
   ],
   "source": [
    "# Test Create\n",
    "\n",
    "data = {\"age_upon_outcome\": \"5 years\",\"animal_id\": \"C092522\", \"animal_type\": \"Cat\", \"breed\": \"Tabby\", \n",
    "         \"color\": \"Orange/white\", \"date_of_birth\": \"2017-09-25\",\"name\": \"Max\", \"sex_upon_outcome\": \"Neutered Male\"}\n",
    "shelter.create(data)\n",
    "\n",
    "data = {\"age_upon_outcome\": \"2 years\",\"animal_id\": \"D031919\", \"animal_type\": \"Dog\", \"breed\": \"Cane Corso\", \n",
    "         \"color\": \"Brindle\", \"date_of_birth\": \"2019-03-19\",\"name\": \"Bella\", \"sex_upon_outcome\": \"Neutered Female\"}\n",
    "shelter.create(data)"
   ]
  },
  {
   "cell_type": "code",
   "execution_count": 3,
   "metadata": {},
   "outputs": [
    {
     "name": "stdout",
     "output_type": "stream",
     "text": [
      "_id\n",
      "age_upon_outcome\n",
      "animal_id\n",
      "animal_type\n",
      "breed\n",
      "color\n",
      "date_of_birth\n",
      "name\n",
      "sex_upon_outcome\n",
      "_id\n",
      "age_upon_outcome\n",
      "animal_id\n",
      "animal_type\n",
      "breed\n",
      "color\n",
      "date_of_birth\n",
      "name\n",
      "sex_upon_outcome\n"
     ]
    }
   ],
   "source": [
    "# Test Read\n",
    "animals = shelter.read({\"animal_id\": \"D031919\"})\n",
    "animals = shelter.read({\"animal_id\": \"C092522\"})"
   ]
  },
  {
   "cell_type": "code",
   "execution_count": 4,
   "metadata": {},
   "outputs": [
    {
     "name": "stdout",
     "output_type": "stream",
     "text": [
      "Accout succesfully updated\n"
     ]
    }
   ],
   "source": [
    "query = {\"animal_id\": \"D031919\"}\n",
    "new_data = {\"$set\": {\"animal_id\": \"A123456\"}}\n",
    "shelter.update(query, new_data)"
   ]
  },
  {
   "cell_type": "code",
   "execution_count": 5,
   "metadata": {},
   "outputs": [
    {
     "name": "stdout",
     "output_type": "stream",
     "text": [
      "Acounts matching data deleted\n",
      "Acounts matching data deleted\n"
     ]
    }
   ],
   "source": [
    "shelter.delete({\"animal_id\": \"D031919\"})\n",
    "shelter.delete({\"animal_id\": \"C092522\"})"
   ]
  },
  {
   "cell_type": "code",
   "execution_count": 6,
   "metadata": {},
   "outputs": [
    {
     "name": "stdout",
     "output_type": "stream",
     "text": [
      "_id\n",
      "1\n",
      "age_upon_outcome\n",
      "animal_id\n",
      "animal_type\n",
      "breed\n",
      "color\n",
      "date_of_birth\n",
      "datetime\n",
      "monthyear\n",
      "name\n",
      "outcome_subtype\n",
      "outcome_type\n",
      "sex_upon_outcome\n",
      "location_lat\n",
      "location_long\n",
      "age_upon_outcome_in_weeks\n"
     ]
    }
   ],
   "source": [
    "animals = shelter.read({\"animal_type\": \"Dog\", \"name\": \"Lucy\"})"
   ]
  },
  {
   "cell_type": "code",
   "execution_count": 7,
   "metadata": {},
   "outputs": [],
   "source": [
    "animals = shelter.read_all({\"animal_type\": \"Dog\"})"
   ]
  },
  {
   "cell_type": "code",
   "execution_count": 13,
   "metadata": {},
   "outputs": [
    {
     "ename": "TypeError",
     "evalue": "read_all() missing 1 required positional argument: 'data'",
     "output_type": "error",
     "traceback": [
      "\u001b[0;31m---------------------------------------------------------------------------\u001b[0m",
      "\u001b[0;31mTypeError\u001b[0m                                 Traceback (most recent call last)",
      "\u001b[0;32m<ipython-input-13-945e0dd6cb5d>\u001b[0m in \u001b[0;36m<module>\u001b[0;34m\u001b[0m\n\u001b[0;32m----> 1\u001b[0;31m \u001b[0mshelter\u001b[0m\u001b[0;34m.\u001b[0m\u001b[0mread_all\u001b[0m\u001b[0;34m(\u001b[0m\u001b[0;34m)\u001b[0m\u001b[0;34m\u001b[0m\u001b[0;34m\u001b[0m\u001b[0m\n\u001b[0m",
      "\u001b[0;31mTypeError\u001b[0m: read_all() missing 1 required positional argument: 'data'"
     ]
    }
   ],
   "source": [
    "shelter.read_all()"
   ]
  },
  {
   "cell_type": "code",
   "execution_count": null,
   "metadata": {},
   "outputs": [],
   "source": []
  },
  {
   "cell_type": "code",
   "execution_count": null,
   "metadata": {},
   "outputs": [],
   "source": []
  }
 ],
 "metadata": {
  "kernelspec": {
   "display_name": "Python 3",
   "language": "python",
   "name": "python3"
  },
  "language_info": {
   "codemirror_mode": {
    "name": "ipython",
    "version": 3
   },
   "file_extension": ".py",
   "mimetype": "text/x-python",
   "name": "python",
   "nbconvert_exporter": "python",
   "pygments_lexer": "ipython3",
   "version": "3.6.9"
  }
 },
 "nbformat": 4,
 "nbformat_minor": 2
}
